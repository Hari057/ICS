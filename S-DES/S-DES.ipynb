{
 "cells": [
  {
   "cell_type": "code",
   "execution_count": 1,
   "metadata": {},
   "outputs": [],
   "source": [
    "from sdes import *"
   ]
  },
  {
   "cell_type": "code",
   "execution_count": 2,
   "metadata": {},
   "outputs": [],
   "source": [
    "def generate_keys(key):\n",
    "    kl, kr = split_arr(P10(key))\n",
    "    kl = LS1(kl)\n",
    "    kr = LS1(kr)\n",
    "    key1 = P8(kl+kr)\n",
    "    kl = LS2(kl)\n",
    "    kr = LS2(kr)\n",
    "    key2 = P8(kl+kr)\n",
    "    return key1, key2"
   ]
  },
  {
   "cell_type": "code",
   "execution_count": 3,
   "metadata": {},
   "outputs": [],
   "source": [
    "def encrypt(key, plaintext):\n",
    "    k1, k2 = generate_keys(key)\n",
    "    pl, pr = split_arr(IP(plaintext))\n",
    "    x1, x2 = split_arr(XOR(EP(pr), k1))\n",
    "    s = S_arr(S0_val(x1) + S1_val(x2))\n",
    "    left = XOR(P4(s), pl)\n",
    "    right = pr\n",
    "    y1, y2 = split_arr(XOR(EP(left), k2))\n",
    "    s1 = S_arr(S0_val(y1) + S1_val(y2))\n",
    "    cipher = IP_inv(XOR(P4(s1), right) + left)\n",
    "    return cipher"
   ]
  },
  {
   "cell_type": "code",
   "execution_count": 4,
   "metadata": {},
   "outputs": [],
   "source": [
    "def decrypt(key, cipher):\n",
    "    k1, k2 = generate_keys(key)\n",
    "    pl, pr = split_arr(IP(cipher))\n",
    "    x1, x2 = split_arr(XOR(EP(pr), k2))\n",
    "    s = S_arr(S0_val(x1) + S1_val(x2))\n",
    "    left = XOR(P4(s), pl)\n",
    "    right = pr\n",
    "    y1, y2 = split_arr(XOR(EP(left), k1))\n",
    "    s1 = S_arr(S0_val(y1) + S1_val(y2))\n",
    "    decipher = IP_inv(XOR(P4(s1), right) + left)\n",
    "    return decipher"
   ]
  },
  {
   "cell_type": "code",
   "execution_count": 5,
   "metadata": {},
   "outputs": [
    {
     "name": "stdout",
     "output_type": "stream",
     "text": [
      "Plaintext: \t [1, 0, 1, 0, 0, 1, 0, 1]\n",
      "Original Key: \t [1, 0, 1, 0, 1, 0, 1, 0, 1, 1]\n",
      "\n",
      "Generated Keys: \n",
      "Key 1:  [1, 1, 1, 0, 0, 1, 1, 0]\n",
      "Key 2:  [0, 1, 0, 1, 1, 0, 1, 1]\n",
      "\n",
      "Encrypted text:  [1, 0, 1, 1, 1, 1, 1, 1]\n",
      "Decrypted text:  [1, 0, 1, 0, 0, 1, 0, 1]\n"
     ]
    }
   ],
   "source": [
    "key = [1, 0, 1, 0, 1, 0, 1, 0, 1, 1]\n",
    "plaintext = [1, 0, 1, 0, 0, 1, 0, 1]\n",
    "key_1, key_2 = generate_keys(key)\n",
    "print(\"Plaintext: \\t\", plaintext)\n",
    "print(\"Original Key: \\t\", key)\n",
    "print(\"\\nGenerated Keys: \")\n",
    "print(\"Key 1: \", key_1)\n",
    "print(\"Key 2: \", key_2)\n",
    "ciphertext = encrypt(key, plaintext)\n",
    "print(\"\\nEncrypted text: \", ciphertext)\n",
    "decipher = decrypt(key, ciphertext)\n",
    "print(\"Decrypted text: \", decipher)"
   ]
  },
  {
   "cell_type": "code",
   "execution_count": 6,
   "metadata": {},
   "outputs": [
    {
     "name": "stdout",
     "output_type": "stream",
     "text": [
      "S-DES Successful\n"
     ]
    }
   ],
   "source": [
    "if(decipher == plaintext):\n",
    "    print(\"S-DES Successful\")\n",
    "else:\n",
    "    print(\"S-DES Failed\")"
   ]
  },
  {
   "cell_type": "code",
   "execution_count": null,
   "metadata": {},
   "outputs": [],
   "source": []
  }
 ],
 "metadata": {
  "kernelspec": {
   "display_name": "Python 3",
   "language": "python",
   "name": "python3"
  },
  "language_info": {
   "codemirror_mode": {
    "name": "ipython",
    "version": 3
   },
   "file_extension": ".py",
   "mimetype": "text/x-python",
   "name": "python",
   "nbconvert_exporter": "python",
   "pygments_lexer": "ipython3",
   "version": "3.5.4"
  }
 },
 "nbformat": 4,
 "nbformat_minor": 2
}
