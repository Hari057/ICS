{
 "cells": [
  {
   "cell_type": "code",
   "execution_count": 1,
   "metadata": {},
   "outputs": [],
   "source": [
    "import numpy as np"
   ]
  },
  {
   "cell_type": "code",
   "execution_count": 2,
   "metadata": {},
   "outputs": [],
   "source": [
    "def P10(arr):\n",
    "    p10arr = []\n",
    "    p10arr.append(arr[2])\n",
    "    p10arr.append(arr[4])\n",
    "    p10arr.append(arr[1])\n",
    "    p10arr.append(arr[6])\n",
    "    p10arr.append(arr[3])\n",
    "    p10arr.append(arr[9])\n",
    "    p10arr.append(arr[0])\n",
    "    p10arr.append(arr[8])\n",
    "    p10arr.append(arr[7])\n",
    "    p10arr.append(arr[5])\n",
    "    return p10arr"
   ]
  },
  {
   "cell_type": "code",
   "execution_count": 3,
   "metadata": {},
   "outputs": [],
   "source": [
    "def P8(arr):\n",
    "    p8arr = []\n",
    "    p8arr.append(arr[5])\n",
    "    p8arr.append(arr[2])\n",
    "    p8arr.append(arr[6])\n",
    "    p8arr.append(arr[3])\n",
    "    p8arr.append(arr[7])\n",
    "    p8arr.append(arr[4])\n",
    "    p8arr.append(arr[9])\n",
    "    p8arr.append(arr[8])\n",
    "    return p8arr"
   ]
  },
  {
   "cell_type": "code",
   "execution_count": 4,
   "metadata": {},
   "outputs": [],
   "source": [
    "def P4(arr):\n",
    "    p4arr = []\n",
    "    p4arr.append(arr[1])\n",
    "    p4arr.append(arr[3])\n",
    "    p4arr.append(arr[2])\n",
    "    p4arr.append(arr[0])\n",
    "    return p4arr"
   ]
  },
  {
   "cell_type": "code",
   "execution_count": 5,
   "metadata": {},
   "outputs": [],
   "source": [
    "def IP(arr):\n",
    "    iparr = []\n",
    "    iparr.append(arr[1])\n",
    "    iparr.append(arr[5])\n",
    "    iparr.append(arr[2])\n",
    "    iparr.append(arr[0])\n",
    "    iparr.append(arr[3])\n",
    "    iparr.append(arr[7])\n",
    "    iparr.append(arr[4])\n",
    "    iparr.append(arr[6])\n",
    "    return iparr"
   ]
  },
  {
   "cell_type": "code",
   "execution_count": 6,
   "metadata": {},
   "outputs": [],
   "source": [
    "def IP_inv(arr):\n",
    "    ipiarr = []\n",
    "    ipiarr.append(arr[3])\n",
    "    ipiarr.append(arr[0])\n",
    "    ipiarr.append(arr[2])\n",
    "    ipiarr.append(arr[4])\n",
    "    ipiarr.append(arr[6])\n",
    "    ipiarr.append(arr[1])\n",
    "    ipiarr.append(arr[7])\n",
    "    ipiarr.append(arr[5])\n",
    "    return ipiarr"
   ]
  },
  {
   "cell_type": "code",
   "execution_count": 7,
   "metadata": {},
   "outputs": [],
   "source": [
    "def EP(arr):\n",
    "    eparr = []\n",
    "    eparr.append(arr[3])\n",
    "    eparr.append(arr[0])\n",
    "    eparr.append(arr[1])\n",
    "    eparr.append(arr[2])\n",
    "    eparr.append(arr[1])\n",
    "    eparr.append(arr[2])\n",
    "    eparr.append(arr[3])\n",
    "    eparr.append(arr[0])\n",
    "    return eparr"
   ]
  },
  {
   "cell_type": "code",
   "execution_count": 8,
   "metadata": {},
   "outputs": [],
   "source": [
    "S0 = [[\"01\", \"00\", \"11\",\"10\"],\n",
    "      [\"11\", \"10\", \"01\", \"00\"],\n",
    "      [\"00\", \"10\", \"01\", \"11\"],\n",
    "      [\"11\", \"01\", \"11\", \"10\"]]\n",
    "\n",
    "def S0_val(arr):\n",
    "    r = str(arr[0]) + str(arr[3])\n",
    "    r = int(r, 2)\n",
    "    c = str(arr[1]) + str(arr[2])\n",
    "    c = int(c, 2)\n",
    "    val = S0[r][c]\n",
    "    return val"
   ]
  },
  {
   "cell_type": "code",
   "execution_count": 9,
   "metadata": {},
   "outputs": [],
   "source": [
    "S1 = [[\"00\", \"01\", \"10\", \"11\"],\n",
    "      [\"10\", \"00\", \"01\", \"11\"],\n",
    "      [\"11\", \"00\", \"01\", \"00\"],\n",
    "      [\"10\", \"01\", \"00\", \"11\"]]\n",
    "\n",
    "def S1_val(arr):\n",
    "    r = str(arr[0]) + str(arr[3])\n",
    "    r = int(r, 2)\n",
    "    c = str(arr[1]) + str(arr[2])\n",
    "    c = int(c, 2)\n",
    "    val = S1[r][c]\n",
    "    return val"
   ]
  },
  {
   "cell_type": "code",
   "execution_count": 10,
   "metadata": {},
   "outputs": [],
   "source": [
    "def S_arr(string):\n",
    "    s = []\n",
    "    for i in range(0, len(string)):\n",
    "        s.append(int(string[i]))\n",
    "    return s"
   ]
  },
  {
   "cell_type": "code",
   "execution_count": 11,
   "metadata": {},
   "outputs": [],
   "source": [
    "def LS1(arr):\n",
    "    arr = np.asarray(arr)\n",
    "    arr = np.roll(arr, -1)\n",
    "    arr = arr.tolist()\n",
    "    return arr"
   ]
  },
  {
   "cell_type": "code",
   "execution_count": 12,
   "metadata": {},
   "outputs": [],
   "source": [
    "def LS2(arr):\n",
    "    arr = np.asarray(arr)\n",
    "    arr = np.roll(arr, -2)\n",
    "    arr = arr.tolist()\n",
    "    return arr"
   ]
  },
  {
   "cell_type": "code",
   "execution_count": 13,
   "metadata": {},
   "outputs": [],
   "source": [
    "def split_arr(arr):\n",
    "    n = int(len(arr)/2)\n",
    "    x1 = arr[:n]\n",
    "    x2 = arr[n:]\n",
    "    return x1, x2"
   ]
  },
  {
   "cell_type": "code",
   "execution_count": 14,
   "metadata": {},
   "outputs": [],
   "source": [
    "def XOR(a, b):\n",
    "    a = np.asarray(a)\n",
    "    b = np.asarray(b)\n",
    "    c = np.logical_xor(a, b)\n",
    "    c = c.astype(int)\n",
    "    c = c.tolist()\n",
    "    return c"
   ]
  },
  {
   "cell_type": "code",
   "execution_count": 15,
   "metadata": {},
   "outputs": [],
   "source": [
    "def generate_keys(key):\n",
    "    kl, kr = split_arr(P10(key))\n",
    "    kl = LS1(kl)\n",
    "    kr = LS1(kr)\n",
    "    key1 = P8(kl+kr)\n",
    "    kl = LS2(kl)\n",
    "    kr = LS2(kr)\n",
    "    key2 = P8(kl+kr)\n",
    "    return key1, key2"
   ]
  },
  {
   "cell_type": "code",
   "execution_count": 16,
   "metadata": {},
   "outputs": [],
   "source": [
    "def encrypt(key, plaintext):\n",
    "    k1, k2 = generate_keys(key)\n",
    "    pl, pr = split_arr(IP(plaintext))\n",
    "    x1, x2 = split_arr(XOR(EP(pr), k1))\n",
    "    s = S_arr(S0_val(x1) + S1_val(x2))\n",
    "    left = XOR(P4(s), pl)\n",
    "    right = pr\n",
    "    y1, y2 = split_arr(XOR(EP(left), k2))\n",
    "    s1 = S_arr(S0_val(y1) + S1_val(y2))\n",
    "    cipher = IP_inv(XOR(P4(s1), right) + left)\n",
    "    return cipher"
   ]
  },
  {
   "cell_type": "code",
   "execution_count": 17,
   "metadata": {},
   "outputs": [],
   "source": [
    "def decrypt(key, cipher):\n",
    "    k1, k2 = generate_keys(key)\n",
    "    pl, pr = split_arr(IP(cipher))\n",
    "    x1, x2 = split_arr(XOR(EP(pr), k2))\n",
    "    s = S_arr(S0_val(x1) + S1_val(x2))\n",
    "    left = XOR(P4(s), pl)\n",
    "    right = pr\n",
    "    y1, y2 = split_arr(XOR(EP(left), k1))\n",
    "    s1 = S_arr(S0_val(y1) + S1_val(y2))\n",
    "    decipher = IP_inv(XOR(P4(s1), right) + left)\n",
    "    return decipher"
   ]
  },
  {
   "cell_type": "code",
   "execution_count": 18,
   "metadata": {},
   "outputs": [
    {
     "name": "stdout",
     "output_type": "stream",
     "text": [
      "Plaintext: \t [1, 0, 1, 0, 0, 1, 0, 1]\n",
      "Original Key: \t [1, 0, 1, 0, 1, 0, 1, 0, 1, 1]\n",
      "\n",
      "Generated Keys: \n",
      "Key 1:  [1, 1, 1, 0, 0, 1, 1, 0]\n",
      "Key 2:  [0, 1, 0, 1, 1, 0, 1, 1]\n",
      "\n",
      "Encrypted text:  [1, 0, 1, 1, 1, 1, 1, 1]\n",
      "Decrypted text:  [1, 0, 1, 0, 0, 1, 0, 1]\n"
     ]
    }
   ],
   "source": [
    "key = [1, 0, 1, 0, 1, 0, 1, 0, 1, 1]\n",
    "plaintext = [1, 0, 1, 0, 0, 1, 0, 1]\n",
    "key_1, key_2 = generate_keys(key)\n",
    "print(\"Plaintext: \\t\", plaintext)\n",
    "print(\"Original Key: \\t\", key)\n",
    "print(\"\\nGenerated Keys: \")\n",
    "print(\"Key 1: \", key_1)\n",
    "print(\"Key 2: \", key_2)\n",
    "ciphertext = encrypt(key, plaintext)\n",
    "print(\"\\nEncrypted text: \", ciphertext)\n",
    "decipher = decrypt(key, ciphertext)\n",
    "print(\"Decrypted text: \", decipher)"
   ]
  },
  {
   "cell_type": "code",
   "execution_count": 19,
   "metadata": {},
   "outputs": [
    {
     "name": "stdout",
     "output_type": "stream",
     "text": [
      "S-DES Successful\n"
     ]
    }
   ],
   "source": [
    "if(decipher == plaintext):\n",
    "    print(\"S-DES Successful\")\n",
    "else:\n",
    "    print(\"S-DES Failed\")"
   ]
  },
  {
   "cell_type": "code",
   "execution_count": 20,
   "metadata": {},
   "outputs": [
    {
     "data": {
      "text/plain": [
       "'\\nfor i in range(0, 10000):\\n    key = np.random.randint(2, size=10)\\n    key = key.tolist()\\n    plaintext = np.random.randint(2, size=8)\\n    plaintext = plaintext.tolist()\\n    key_1, key_2 = generate_keys(key)\\n    ciphertext = encrypt(key, plaintext)\\n    decipher = decrypt(key, ciphertext)\\n    if(decipher == plaintext):\\n        print(\"S-DES Successful\")\\n    else:\\n        print(\"S-DES Failed\")\\n'"
      ]
     },
     "execution_count": 20,
     "metadata": {},
     "output_type": "execute_result"
    }
   ],
   "source": [
    "# Testing (Successfully passed all tests)\n",
    "'''\n",
    "for i in range(0, 10000):\n",
    "    key = np.random.randint(2, size=10)\n",
    "    key = key.tolist()\n",
    "    plaintext = np.random.randint(2, size=8)\n",
    "    plaintext = plaintext.tolist()\n",
    "    key_1, key_2 = generate_keys(key)\n",
    "    ciphertext = encrypt(key, plaintext)\n",
    "    decipher = decrypt(key, ciphertext)\n",
    "    if(decipher == plaintext):\n",
    "        print(\"S-DES Successful\")\n",
    "    else:\n",
    "        print(\"S-DES Failed\")\n",
    "'''"
   ]
  },
  {
   "cell_type": "code",
   "execution_count": null,
   "metadata": {},
   "outputs": [],
   "source": []
  }
 ],
 "metadata": {
  "kernelspec": {
   "display_name": "Python 3",
   "language": "python",
   "name": "python3"
  },
  "language_info": {
   "codemirror_mode": {
    "name": "ipython",
    "version": 3
   },
   "file_extension": ".py",
   "mimetype": "text/x-python",
   "name": "python",
   "nbconvert_exporter": "python",
   "pygments_lexer": "ipython3",
   "version": "3.5.4"
  }
 },
 "nbformat": 4,
 "nbformat_minor": 2
}
