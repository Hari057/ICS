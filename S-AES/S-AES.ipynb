{
 "cells": [
  {
   "cell_type": "code",
   "execution_count": 1,
   "metadata": {},
   "outputs": [],
   "source": [
    "from saes import *"
   ]
  },
  {
   "cell_type": "code",
   "execution_count": 2,
   "metadata": {},
   "outputs": [],
   "source": [
    "def generate_keys(K):\n",
    "    l = int(len(K)/2)\n",
    "    w0 = K[:l]\n",
    "    w1 = K[l:]\n",
    "    w2 = XOR(XOR(w0, [1,0,0,0,0,0,0,0]), SubNib(RotNib(w1)))\n",
    "    w3 = XOR(w2, w1)\n",
    "    w4 = XOR(XOR(w2, [0,0,1,1,0,0,0,0]), SubNib(RotNib(w3)))\n",
    "    w5 = XOR(w4, w3)\n",
    "    key0 = w0+w1\n",
    "    key1 = w2+w3\n",
    "    key2 = w4+w5\n",
    "    return key0, key1, key2"
   ]
  },
  {
   "cell_type": "code",
   "execution_count": 3,
   "metadata": {},
   "outputs": [],
   "source": [
    "def encrypt(P, K):\n",
    "    key0, key1, key2 = generate_keys(K)\n",
    "    # Add Round 0 key\n",
    "    R0 = XOR(P, key0)\n",
    "    # Round 1\n",
    "    x = ShRow(SubNib(R0))\n",
    "    s = gen_S(x)\n",
    "    prod = mat_mul(s)\n",
    "    res = XOR(prod, key1)\n",
    "    # Final Round\n",
    "    ciphertext = XOR(ShRow(SubNib(res)), key2)\n",
    "    return ciphertext"
   ]
  },
  {
   "cell_type": "code",
   "execution_count": 4,
   "metadata": {},
   "outputs": [],
   "source": [
    "def decrypt(C, K):\n",
    "    key0, key1, key2 = generate_keys(K)\n",
    "    s = XOR(SubNib_inv(ShRow(XOR(C,key2))), key1)\n",
    "    s = gen_S(s)\n",
    "    prod = mat_mul_inv(s)\n",
    "    decipher = XOR(SubNib_inv(ShRow(prod)),key0)\n",
    "    return decipher"
   ]
  },
  {
   "cell_type": "code",
   "execution_count": 5,
   "metadata": {},
   "outputs": [
    {
     "name": "stdout",
     "output_type": "stream",
     "text": [
      "Plaintext: \t [1, 1, 0, 1, 0, 1, 1, 1, 0, 0, 1, 0, 1, 0, 0, 0]\n",
      "Original Key: \t [0, 1, 0, 0, 1, 0, 1, 0, 1, 1, 1, 1, 0, 1, 0, 1]\n",
      "\n",
      "Generated Keys: \n",
      "Key 0:  [0, 1, 0, 0, 1, 0, 1, 0, 1, 1, 1, 1, 0, 1, 0, 1]\n",
      "Key 1:  [1, 1, 0, 1, 1, 1, 0, 1, 0, 0, 1, 0, 1, 0, 0, 0]\n",
      "Key 2:  [1, 0, 0, 0, 0, 1, 1, 1, 1, 0, 1, 0, 1, 1, 1, 1]\n",
      "\n",
      "Encrypted text:  [0, 0, 1, 0, 0, 1, 0, 0, 1, 1, 1, 0, 1, 1, 0, 0]\n",
      "Decrypted text:  [1, 1, 0, 1, 0, 1, 1, 1, 0, 0, 1, 0, 1, 0, 0, 0]\n",
      "\n",
      "S-AES Successful\n"
     ]
    }
   ],
   "source": [
    "plaintext = [1,1,0,1,0,1,1,1,0,0,1,0,1,0,0,0]\n",
    "key = [0,1,0,0,1,0,1,0,1,1,1,1,0,1,0,1]\n",
    "print(\"Plaintext: \\t\", plaintext)\n",
    "print(\"Original Key: \\t\", key)\n",
    "key0, key1, key2 = generate_keys(key)\n",
    "print(\"\\nGenerated Keys: \")\n",
    "print(\"Key 0: \", key0)\n",
    "print(\"Key 1: \", key1)\n",
    "print(\"Key 2: \", key2)\n",
    "ciphertext = encrypt(plaintext, key)\n",
    "print(\"\\nEncrypted text: \", ciphertext)\n",
    "decipher = decrypt(ciphertext, key)\n",
    "print(\"Decrypted text: \", decipher)\n",
    "\n",
    "if(decipher == plaintext):\n",
    "    print(\"\\nS-AES Successful\")\n",
    "else:\n",
    "    print(\"\\nS-AES Failed\")"
   ]
  },
  {
   "cell_type": "code",
   "execution_count": null,
   "metadata": {},
   "outputs": [],
   "source": []
  }
 ],
 "metadata": {
  "kernelspec": {
   "display_name": "Python 3",
   "language": "python",
   "name": "python3"
  },
  "language_info": {
   "codemirror_mode": {
    "name": "ipython",
    "version": 3
   },
   "file_extension": ".py",
   "mimetype": "text/x-python",
   "name": "python",
   "nbconvert_exporter": "python",
   "pygments_lexer": "ipython3",
   "version": "3.5.4"
  }
 },
 "nbformat": 4,
 "nbformat_minor": 2
}
