{
 "cells": [
  {
   "cell_type": "code",
   "execution_count": 1,
   "metadata": {},
   "outputs": [],
   "source": [
    "import numpy as np\n",
    "\n",
    "from GF16 import GFT, sbox, sboxinv"
   ]
  },
  {
   "cell_type": "code",
   "execution_count": 2,
   "metadata": {},
   "outputs": [],
   "source": [
    "def make_bin(n):\n",
    "    n = bin(n)\n",
    "    n = n.replace('0b', '')\n",
    "    while(len(n) < 4):\n",
    "        n = \"0\" + n\n",
    "    n = list(n)\n",
    "    n = [int(i) for i in n]\n",
    "    return n"
   ]
  },
  {
   "cell_type": "code",
   "execution_count": 3,
   "metadata": {},
   "outputs": [],
   "source": [
    "def RotNib(w):\n",
    "    w = np.asarray(w)\n",
    "    w = np.roll(w, 4)\n",
    "    w = w.tolist()\n",
    "    return w"
   ]
  },
  {
   "cell_type": "code",
   "execution_count": 4,
   "metadata": {},
   "outputs": [],
   "source": [
    "def SubNib(w):\n",
    "    a = []\n",
    "    l = len(w)\n",
    "    for i in range(0,l,4):\n",
    "        n = w[i:i+4]\n",
    "        n = ''.join(map(str,n))\n",
    "        a = a + make_bin(sbox[int(n,2)])\n",
    "    return a"
   ]
  },
  {
   "cell_type": "code",
   "execution_count": 5,
   "metadata": {},
   "outputs": [],
   "source": [
    "def ShRow(w):\n",
    "    for i in range(4, 8):\n",
    "        w[i], w[i+8] = w[i+8], w[i]\n",
    "    return w"
   ]
  },
  {
   "cell_type": "code",
   "execution_count": 6,
   "metadata": {},
   "outputs": [],
   "source": [
    "def XOR(a, b):\n",
    "    a = np.asarray(a)\n",
    "    b = np.asarray(b)\n",
    "    c = np.logical_xor(a, b)\n",
    "    c = c.astype(int)\n",
    "    c = c.tolist()\n",
    "    return c"
   ]
  },
  {
   "cell_type": "code",
   "execution_count": 7,
   "metadata": {},
   "outputs": [],
   "source": [
    "def generate_keys(K):\n",
    "    l = int(len(K)/2)\n",
    "    w0 = K[:l]\n",
    "    w1 = K[l:]\n",
    "    w2 = XOR(XOR(w0, [1,0,0,0,0,0,0,0]), SubNib(RotNib(w1)))\n",
    "    w3 = XOR(w2, w1)\n",
    "    w4 = XOR(XOR(w2, [0,0,1,1,0,0,0,0]), SubNib(RotNib(w3)))\n",
    "    w5 = XOR(w4, w3)\n",
    "    key0 = w0+w1\n",
    "    key1 = w2+w3\n",
    "    key2 = w4+w5\n",
    "    return key0, key1, key2"
   ]
  },
  {
   "cell_type": "code",
   "execution_count": 8,
   "metadata": {},
   "outputs": [],
   "source": [
    "def gen_S(x):\n",
    "    s = []\n",
    "    l = len(x)\n",
    "    for i in range(0,l,4):\n",
    "        n = x[i:i+4]\n",
    "        n = ''.join(map(str,n))\n",
    "        s.append(int(n,2))\n",
    "    s = [[s[0], s[1]], [s[2], s[3]]]\n",
    "    s = np.asarray(s)\n",
    "    s = s.transpose()\n",
    "    return s"
   ]
  },
  {
   "cell_type": "code",
   "execution_count": 9,
   "metadata": {},
   "outputs": [],
   "source": [
    "def mat_mul(s):\n",
    "    result = [[0,0], [0,0]]\n",
    "    result[0][0] = GFT[s[0][0]][1] ^ GFT[s[0][1]][4]\n",
    "    result[0][1] = GFT[s[0][0]][4] ^ GFT[s[0][1]][1]\n",
    "    result[1][0] = GFT[s[1][0]][1] ^ GFT[s[1][1]][4]    \n",
    "    result[1][1] = GFT[s[1][0]][4] ^ GFT[s[1][1]][1]\n",
    "    result = sum(result,[])\n",
    "    result = [make_bin(i) for i in result]\n",
    "    result = sum(result, [])\n",
    "    return result"
   ]
  },
  {
   "cell_type": "code",
   "execution_count": 10,
   "metadata": {},
   "outputs": [],
   "source": [
    "def encrypt(P, K):\n",
    "    key0, key1, key2 = generate_keys(K)\n",
    "    # Add Round 0 key\n",
    "    R0 = XOR(P, key0)\n",
    "    # Round 1\n",
    "    x = ShRow(SubNib(R0))\n",
    "    s = gen_S(x)\n",
    "    prod = mat_mul(s)\n",
    "    res = XOR(prod, key1)\n",
    "    # Final Round\n",
    "    ciphertext = XOR(ShRow(SubNib(res)), key2)\n",
    "    return ciphertext"
   ]
  },
  {
   "cell_type": "code",
   "execution_count": 11,
   "metadata": {},
   "outputs": [],
   "source": [
    "def SubNibd(w):\n",
    "    a = []\n",
    "    l = len(w)\n",
    "    for i in range(0,l,4):\n",
    "        n = w[i:i+4]\n",
    "        n = ''.join(map(str,n))\n",
    "        a = a + make_bin(sboxinv[int(n,2)])\n",
    "    return a"
   ]
  },
  {
   "cell_type": "code",
   "execution_count": 12,
   "metadata": {},
   "outputs": [],
   "source": [
    "def mat_mul_inv(s):\n",
    "    result = [[0,0], [0,0]]\n",
    "    result[0][0] = GFT[9][s[0][0]] ^ GFT[2][s[1][0]]\n",
    "    result[0][1] = GFT[9][s[0][1]] ^ GFT[2][s[1][1]]\n",
    "    result[1][0] = GFT[2][s[0][0]] ^ GFT[9][s[1][0]]    \n",
    "    result[1][1] = GFT[2][s[0][1]] ^ GFT[9][s[1][1]]\n",
    "    result = sum(result, [])\n",
    "    result = [make_bin(i) for i in result]\n",
    "    result = sum(result, [])\n",
    "    return result"
   ]
  },
  {
   "cell_type": "code",
   "execution_count": 13,
   "metadata": {},
   "outputs": [],
   "source": [
    "def decrypt(C, K):\n",
    "    key0, key1, key2 = generate_keys(K)\n",
    "    s = XOR(SubNibd(ShRow(XOR(C,key2))), key1)\n",
    "    s = gen_S(s)\n",
    "    prod = mat_mul_inv(s)\n",
    "    decipher = XOR(SubNibd(ShRow(prod)),key0)\n",
    "    return decipher"
   ]
  },
  {
   "cell_type": "code",
   "execution_count": 14,
   "metadata": {},
   "outputs": [
    {
     "name": "stdout",
     "output_type": "stream",
     "text": [
      "Plaintext: \t [1, 1, 0, 1, 0, 1, 1, 1, 0, 0, 1, 0, 1, 0, 0, 0]\n",
      "Original Key: \t [0, 1, 0, 0, 1, 0, 1, 0, 1, 1, 1, 1, 0, 1, 0, 1]\n",
      "\n",
      "Generated Keys: \n",
      "Key 0:  [0, 1, 0, 0, 1, 0, 1, 0, 1, 1, 1, 1, 0, 1, 0, 1]\n",
      "Key 1:  [1, 1, 0, 1, 1, 1, 0, 1, 0, 0, 1, 0, 1, 0, 0, 0]\n",
      "Key 2:  [1, 0, 0, 0, 0, 1, 1, 1, 1, 0, 1, 0, 1, 1, 1, 1]\n",
      "\n",
      "Encrypted text:  [0, 0, 1, 0, 0, 1, 0, 0, 1, 1, 1, 0, 1, 1, 0, 0]\n",
      "Decrypted text:  [1, 1, 0, 1, 0, 1, 1, 1, 0, 0, 1, 0, 1, 0, 0, 0]\n",
      "\n",
      "S-AES Successful\n"
     ]
    }
   ],
   "source": [
    "plaintext = [1,1,0,1,0,1,1,1,0,0,1,0,1,0,0,0]\n",
    "key = [0,1,0,0,1,0,1,0,1,1,1,1,0,1,0,1]\n",
    "print(\"Plaintext: \\t\", plaintext)\n",
    "print(\"Original Key: \\t\", key)\n",
    "key0, key1, key2 = generate_keys(key)\n",
    "print(\"\\nGenerated Keys: \")\n",
    "print(\"Key 0: \", key0)\n",
    "print(\"Key 1: \", key1)\n",
    "print(\"Key 2: \", key2)\n",
    "ciphertext = encrypt(plaintext, key)\n",
    "print(\"\\nEncrypted text: \", ciphertext)\n",
    "decipher = decrypt(ciphertext, key)\n",
    "print(\"Decrypted text: \", decipher)\n",
    "\n",
    "if(decipher == plaintext):\n",
    "    print(\"\\nS-AES Successful\")\n",
    "else:\n",
    "    print(\"\\nS-AES Failed\")"
   ]
  },
  {
   "cell_type": "code",
   "execution_count": 22,
   "metadata": {},
   "outputs": [
    {
     "data": {
      "text/plain": [
       "'\\nfor i in range(0, 10000):\\n    key = np.random.randint(2, size=16)\\n    key = key.tolist()\\n    plaintext = np.random.randint(2, size=16)\\n    plaintext = plaintext.tolist()\\n    key0, key1, key2 = generate_keys(key)\\n    ciphertext = encrypt(plaintext, key)\\n    decipher = decrypt(ciphertext, key)\\n    if(decipher == plaintext):\\n        print(\"S-AES Successful\")\\n    else:\\n        print(\"S-AES Failed\")\\n'"
      ]
     },
     "execution_count": 22,
     "metadata": {},
     "output_type": "execute_result"
    }
   ],
   "source": [
    "# Testing (Successfully passed all tests)\n",
    "'''\n",
    "for i in range(0, 10000):\n",
    "    key = np.random.randint(2, size=16)\n",
    "    key = key.tolist()\n",
    "    plaintext = np.random.randint(2, size=16)\n",
    "    plaintext = plaintext.tolist()\n",
    "    key0, key1, key2 = generate_keys(key)\n",
    "    ciphertext = encrypt(plaintext, key)\n",
    "    decipher = decrypt(ciphertext, key)\n",
    "    if(decipher == plaintext):\n",
    "        print(\"S-AES Successful\")\n",
    "    else:\n",
    "        print(\"S-AES Failed\")\n",
    "'''"
   ]
  },
  {
   "cell_type": "code",
   "execution_count": null,
   "metadata": {},
   "outputs": [],
   "source": []
  }
 ],
 "metadata": {
  "kernelspec": {
   "display_name": "Python 3",
   "language": "python",
   "name": "python3"
  },
  "language_info": {
   "codemirror_mode": {
    "name": "ipython",
    "version": 3
   },
   "file_extension": ".py",
   "mimetype": "text/x-python",
   "name": "python",
   "nbconvert_exporter": "python",
   "pygments_lexer": "ipython3",
   "version": "3.5.4"
  }
 },
 "nbformat": 4,
 "nbformat_minor": 2
}
